{
  "nbformat": 4,
  "nbformat_minor": 0,
  "metadata": {
    "colab": {
      "name": "Ejercicios3MachineLearning.ipynb",
      "provenance": [],
      "collapsed_sections": []
    },
    "kernelspec": {
      "name": "python3",
      "display_name": "Python 3"
    },
    "language_info": {
      "name": "python"
    }
  },
  "cells": [
    {
      "cell_type": "markdown",
      "metadata": {
        "id": "jdVJimbu7G_a"
      },
      "source": [
        "# Entrega 3 MACHINE LEARNING Daniel Ricardo Rodriguez"
      ]
    },
    {
      "cell_type": "markdown",
      "metadata": {
        "id": "hvmBEqOfy9rf"
      },
      "source": [
        "ADVERTENCIA si hay dificultad para ver las formulas de latex en el repositorio , aca dejo el link de colaboratory :https://colab.research.google.com/drive/1usaRXBj61juh9aLLiCl-EbYchUAhNuS5?usp=sharing"
      ]
    },
    {
      "cell_type": "markdown",
      "metadata": {
        "id": "BHk8oIFH7RNi"
      },
      "source": [
        "**Exercise 2.2**\n",
        "\n",
        "a)\n",
        "\n",
        "\n",
        "*Para Positive rays el break point es $k=2$ entonces $RHS = \\sum^{1}_{i=0}{N \\choose i} = N+1$ y $m_{\\mathcal{H}}(N) = N+1$, por lo tanto $m_{\\mathcal{H}}(N) \\le \\sum^{k}_{i=0}{N \\choose i}$\n",
        "\n",
        "*Para Positive intervals el break point es $k=3$ entonces $RHS = \\sum^{2}_{i=0}{N \\choose i} = \\frac{N(N-1)}{2} + N+1 = \\frac{N(N+1)}{2} + 1$ y $m_{\\mathcal{H}}(N) = {N+1 \\choose 2}+1 = \\frac{N(N+1)}\n",
        "{2} + 1$, por lo tanto $m_{\\mathcal{H}}(N) \\le \\sum^{k}_{i=0}{N \\choose i}$\n",
        "\n",
        "*Para convex sets no existe el break point por lo tanto si  el máximo $k = N+1$, entonces $\\sum^{N}_{i=0}{N \\choose i} = 2^N$, por lo tanto $m_{\\mathcal{H}}(N) = 2^N \\le \\sum^{k}_{i=0}{N \\choose i}$\n",
        "\n",
        "b)No , ya que si  $m_{\\mathcal{H}}(N) = N+2^{\\frac{N}{2}}$ entonces el break point sería $k=3$ , entonces de acuerdo con el teorema tendriamos que \n",
        "$m_{\\mathcal{H}}(N)\\le \\sum^{2}_{i=0}{N \\choose i} = \\frac{N(N+1)}{2} + 1$ , pero esta desigualdad no se cumple para todo N , ya que la exponencial crecerá en algún momento más rapido que la polinomica , por ejemplo no se cumple para N=18"
      ]
    },
    {
      "cell_type": "markdown",
      "metadata": {
        "id": "ATXvuUXbMCj7"
      },
      "source": [
        "**Excercise 2.5** \n",
        "\n",
        "\n",
        "La probabilidad es mayor o igual que -708.5275... , es decir la probabilidad es mayor o igual que cero"
      ]
    },
    {
      "cell_type": "code",
      "metadata": {
        "colab": {
          "base_uri": "https://localhost:8080/"
        },
        "id": "jlrigLSGMjNA",
        "outputId": "8924da5c-3081-4fef-a623-d78bd1e708f7"
      },
      "source": [
        "# Exercise 2.5\n",
        "mh = 2*N + 1\n",
        "d = 0.1\n",
        "N = 100  #Training Examples\n",
        "delta = 4*mh / np.exp(N * d**2 /8)\n",
        "delta"
      ],
      "execution_count": null,
      "outputs": [
        {
          "output_type": "execute_result",
          "data": {
            "text/plain": [
              "709.5275096780147"
            ]
          },
          "metadata": {
            "tags": []
          },
          "execution_count": 11
        }
      ]
    },
    {
      "cell_type": "markdown",
      "metadata": {
        "id": "KBv088MlPRhS"
      },
      "source": [
        "**Excerise 2.6**.\n",
        "\n",
        "a)la estimación que tiene el 'error bar' más grande es la the in-sample error"
      ]
    },
    {
      "cell_type": "code",
      "metadata": {
        "colab": {
          "base_uri": "https://localhost:8080/"
        },
        "id": "MuwZph-pQrAU",
        "outputId": "f4d100eb-a017-483b-b373-585e9d37ffbd"
      },
      "source": [
        "# Exercise 2.6\n",
        "import numpy as np\n",
        "epsilon = 0.05\n",
        "\n",
        "N = 200\n",
        "# test error\n",
        "print('E_test(g): ', np.sqrt(np.log(2/epsilon)/2/N))\n",
        "\n",
        "# sample error\n",
        "M = 1000\n",
        "N = 400\n",
        "print('E_in(g): ', np.sqrt(np.log(2*M/epsilon)/2/))"
      ],
      "execution_count": null,
      "outputs": [
        {
          "output_type": "stream",
          "text": [
            "E_test(g):  0.09603227913199208\n",
            "E_in(g):  0.11509037065006825\n"
          ],
          "name": "stdout"
        }
      ]
    },
    {
      "cell_type": "markdown",
      "metadata": {
        "id": "hCkepM0jRoOj"
      },
      "source": [
        "b)si reservamos más ejemplos para probar, tendremos menos muestras para entrenamiento. Podemos terminar con una hipótesis que no es tan buena como podríamos haber llegado si usáramos más muestras de entrenamiento. Así que $ E_ {test} (g) $ podría estar demasiado fuera de lugar, incluso si la barra de error es pequeña."
      ]
    },
    {
      "cell_type": "markdown",
      "metadata": {
        "id": "7duLQ1Q1a084"
      },
      "source": [
        "**Problem 2.1**\n",
        "\n",
        " como $\\sqrt{\\frac{1}{2N}\\ln{\\frac{2M}{\\delta}}}\\le\\epsilon$  entonces esto es equivalente a decir que $N \\ge \\frac{1}{2\\epsilon^2}ln\\frac{2M}{\\delta}$\n",
        "\n",
        " a) entonces para M=1 $N \\ge \\frac{1}{2*0.05^2}ln\\frac{2*1}{0.03} = 839.9410$\n",
        "\n",
        " b) para M=100 $N \\ge \\frac{1}{2*0.05^2}ln\\frac{2*100}{0.03} = 1760.9750$\n",
        "\n",
        " c) Para M=1000 $N \\ge \\frac{1}{2*0.05^2}ln\\frac{2*100}{0.03} = 2682.0090$\n",
        "\n",
        "\n"
      ]
    },
    {
      "cell_type": "markdown",
      "metadata": {
        "id": "XS7DsOrGeG_g"
      },
      "source": [
        "**Problem 2.12**\n",
        "Se hace un proceso iterativo con un N inicial =100 , reemplazando en la ecuación para el RHS , y nos vamos dando cuenta con unas 7 iteraciones que converge a aproximadamente a un **N=452957**  , veamos:\n",
        "\n",
        "\n"
      ]
    },
    {
      "cell_type": "code",
      "metadata": {
        "colab": {
          "base_uri": "https://localhost:8080/"
        },
        "id": "tYK85WIYgEER",
        "outputId": "81db8425-f334-471b-d8fe-14a0462c0b96"
      },
      "source": [
        "import numpy as np\n",
        "dvc = 10\n",
        "delta = 0.05\n",
        "epsilon = 0.05\n",
        "\n",
        "def sample_size(dvc, delta, epsilon):\n",
        "    N = 1000\n",
        "    for it in range(1000):\n",
        "        rhs = 8 * np.log(4*((2*N)**dvc+1)/delta)/epsilon/epsilon\n",
        "        res = N - rhs\n",
        "        print('rhs: ', rhs, '  N: ', N)\n",
        "        if np.abs(res) <= 1: #mirar quela diferencia sea muy pequeña para hacer una buena aproximación de convergenia\n",
        "            break\n",
        "        N = int(rhs+1)\n",
        "    return N\n",
        "print('Aproximamos la convergencia de N al entero más próximo , Sample size:',sample_size(dvc,delta,epsilon))"
      ],
      "execution_count": null,
      "outputs": [
        {
          "output_type": "stream",
          "text": [
            "rhs:  257251.363936303   N:  1000\n",
            "rhs:  434853.1607114173   N:  257252\n",
            "rhs:  451651.694898469   N:  434854\n",
            "rhs:  452864.5470337024   N:  451652\n",
            "rhs:  452950.37410664634   N:  452865\n",
            "rhs:  452956.45039588894   N:  452951\n",
            "rhs:  452956.87427999196   N:  452957\n",
            "Aproximamos la convergencia de N al entero más próximo , Sample size: 452957\n"
          ],
          "name": "stdout"
        }
      ]
    },
    {
      "cell_type": "markdown",
      "metadata": {
        "id": "xbZZqfynkrz6"
      },
      "source": [
        "\n",
        "**Problem 2.16**\n",
        "\n",
        "\n",
        "a)Esta función  $ \\sum_ {i = 0} ^ D c_ix ^ i $ tiene $ D $ raíces, para un conjunto de $ D + 1 $ puntos, supongamos que podemos encontrar una solución para $ c_i $ s  ,este punto y  los coeficientes $ c_i $ son tales que las raíces $ D $ caerán en los intervalos $ D $ (entre el mínimo y el máximo de los puntos $ D + 1 $) de los puntos $ D + 1 $. Entonces sabemos que el polinomio cambiará de signo cuando nos movemos de la izquierda a la derecha de una raíz. Entonces, para cualquier dicotomía de los puntos $ D + 1 $, se puede elegir un polinomio que coincida con los signos de cada punto. Por tanto, hay $ D + 1 $ puntos que $ \\mathcal {H}$ puede romper.\n",
        "\n",
        "\n",
        "(b) Para cualquier punto $ D + 2 $ como solo hay $ D $ raíces entonces hay al menos dos puntos que están en el lado más a la izquierda o más a la derecha de todas las raíces, o están entre dos raíces vecinas. En cualquier caso, estos dos puntos tienen el mismo signo, por lo que $ \\mathcal {H} $ no puede romper los puntos $ D + 2 $.\n",
        "\n",
        "como hay d+1 puntos que  $\\mathcal{H}$ puede romper y hay d+2 puntos que $\\mathcal{h}$  no puede romper , es suficiente para afirmar que la dimensión VC de $\\mathcal {H} $ es $ D + 1 $.\n"
      ]
    },
    {
      "cell_type": "markdown",
      "metadata": {
        "id": "GsCf2YxYmmOv"
      },
      "source": [
        "**Problem 2.20**\n",
        "vamos a convertir las cotas de error $\\epsilon$ implicitas en explicitas primero\n",
        "\n",
        "\n",
        "para Parrondo and Van den Broek bound si elevamos al cuadrado tenemos que :\n",
        "\n",
        "$\n",
        "\\epsilon^2\\le \\frac{1}{N} 2\\epsilon+\\ln\\frac{6m_{\\mathcal{H}}(2N)}{\\delta}\n",
        "$\n",
        "\n",
        "$\n",
        "N\\epsilon^2-2\\epsilon\\le \\ln\\frac{6m_{\\mathcal{H}}(2N)}{\\delta}\\\\\n",
        "$\n",
        "\n",
        "$\n",
        "N\\epsilon^2-2\\epsilon+1\\le \\ln\\frac{6m_{\\mathcal{H}}(2N)}{\\delta}+1$\n",
        "\n",
        "$\n",
        "(N\\epsilon-1)^2\\le \\ln\\frac{6m_{\\mathcal{H}}(2N)}{\\delta}+1$\n",
        "\n",
        "$\n",
        "N\\epsilon-1\\le \\sqrt{\\ln\\frac{6m_{\\mathcal{H}}(2N)}{\\delta}+1}\\\\\n",
        "$\n",
        "\n",
        "$\n",
        "\\epsilon\\le \\frac{1}{N} + \\sqrt{\\frac{1}{N^2} + \\frac{1}{N}\\ln\\frac{6m_{\\mathcal{H}}(2N)}{\\delta}}\\\\\n",
        "$\n",
        "\n",
        "para Devroye bound haciendo un proceso similar al anterior empezando elevando al cuadrado tendríamos como resultado explícito que:\n",
        "\n",
        "$\n",
        "\\epsilon\\le \\frac{1}{N-2} + \\sqrt{\\frac{1}{(N-2)^2} + \\frac{1}{2(N-2)}\\ln\\frac{4m_{\\mathcal{H}}(N^2)}{\\delta}}\n",
        "$\n",
        "\n",
        "Enseguida veremos que la mejor cota sería la de Parrondo and Van de Broek\n"
      ]
    },
    {
      "cell_type": "code",
      "metadata": {
        "colab": {
          "base_uri": "https://localhost:8080/",
          "height": 282
        },
        "id": "RAsTZY7Xt5kQ",
        "outputId": "ff1924ee-7535-4b23-c73c-51e7fb12d1da"
      },
      "source": [
        "#### Problem 2.20\n",
        "import numpy as np\n",
        "from functools import partial\n",
        "import matplotlib.pyplot as plt\n",
        "dvc = 50.0\n",
        "delta = 0.05\n",
        "def vc_bound(N, growth, delta):\n",
        "    return np.sqrt(8*np.log(4*growth(2*N)/delta)/N)\n",
        "\n",
        "def rade_penalty_bound(N, growth, delta):\n",
        "    a = np.sqrt(2*np.log(2*N*growth(N))/N)\n",
        "    b = np.sqrt(-2*np.log(delta)/N)\n",
        "    return a + b + 1.0/N\n",
        "\n",
        "def pv_bound(N, growth, delta):\n",
        "    return 1.0/N + np.sqrt(1/N/N + np.log(6*growth(2*N)/delta)/N)\n",
        "\n",
        "def devroye_bound(N, growth, delta, d):\n",
        "    a = 1/(N-2)\n",
        "    b = a**2\n",
        "    c = a*(np.log(4/delta)+2*d*np.log(N))\n",
        "    return a + np.sqrt(b + c)\n",
        "def growth(N, d):\n",
        "    return N**d + 1\n",
        "g = partial(growth, d = dvc)\n",
        "x = np.arange(3, 5000)\n",
        "y1,y2,y3,y4= [],[],[],[]\n",
        "for N in x:\n",
        "    y1.append(vc_bound(N, g, delta))\n",
        "    y2.append(rade_penalty_bound(N, g, delta))\n",
        "    y3.append(pv_bound(N, g, delta))\n",
        "    y4.append(devroye_bound(N, g, delta, dvc))\n",
        "\n",
        "plt.plot(x, y1, color='red', label='VC Bound original')\n",
        "plt.plot(x, y2, color='green', label='Rademacher Penalty Bound')\n",
        "plt.plot(x, y3, color='blue', label=' Parrondo and Van den Broek Bound')\n",
        "plt.plot(x, y4, color='black', label='Devroye Bound')\n",
        "plt.legend()"
      ],
      "execution_count": 26,
      "outputs": [
        {
          "output_type": "execute_result",
          "data": {
            "text/plain": [
              "<matplotlib.legend.Legend at 0x7f306a779ad0>"
            ]
          },
          "metadata": {
            "tags": []
          },
          "execution_count": 26
        },
        {
          "output_type": "display_data",
          "data": {
            "image/png": "[encoded data removed]",
            "text/plain": [
              "<Figure size 432x288 with 1 Axes>"
            ]
          },
          "metadata": {
            "tags": [],
            "needs_background": "light"
          }
        }
      ]
    }
  ]
}